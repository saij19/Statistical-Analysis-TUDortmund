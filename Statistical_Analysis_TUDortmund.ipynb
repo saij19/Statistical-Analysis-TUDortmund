{
  "nbformat": 4,
  "nbformat_minor": 0,
  "metadata": {
    "colab": {
      "provenance": [],
      "collapsed_sections": [
        "5A0YOdKSs4VZ",
        "6qEjIRR5tFqp",
        "P5GV518ytm-W",
        "1AJv4pjgxgTk",
        "6zO6MC-oG4DY",
        "6YH2fy0H3dG6",
        "XTNPynug4YVi",
        "X5vH8dvA2Wni",
        "ZYkfCXvk4jQY",
        "LlZhluA34-nF",
        "ZmKzTl4Q5XI2",
        "WI6I11qc5lNN",
        "OOFy-5gI5wGt",
        "moXsr5z96RBi",
        "eSr9Rc1Y6Whi",
        "BErcxrZh61CM",
        "Wxc-UROr7ETm",
        "Vn3_wHte7SNK",
        "XZrcQn4S7hCq",
        "_OahFiWt8I7H"
      ],
      "mount_file_id": "1jQpTx5xo4-z-dakipkWrDh03od8XdeOM",
      "authorship_tag": "ABX9TyNyoCe7Ak06UKCoocOEMXi7",
      "include_colab_link": true
    },
    "kernelspec": {
      "name": "python3",
      "display_name": "Python 3"
    },
    "language_info": {
      "name": "python"
    }
  },
  "cells": [
    {
      "cell_type": "markdown",
      "metadata": {
        "id": "view-in-github",
        "colab_type": "text"
      },
      "source": [
        "<a href=\"https://colab.research.google.com/github/saij19/Statistical-Analysis-TUDortmund/blob/main/Statistical_Analysis_TUDortmund.ipynb\" target=\"_parent\"><img src=\"https://colab.research.google.com/assets/colab-badge.svg\" alt=\"Open In Colab\"/></a>"
      ]
    },
    {
      "cell_type": "code",
      "execution_count": 3,
      "metadata": {
        "id": "WNJkxXnUqGs_"
      },
      "outputs": [],
      "source": [
        "import pandas as pd\n",
        "import numpy as np\n",
        "import matplotlib.pyplot as plt\n",
        "\n",
        "from scipy import stats\n",
        "\n",
        "from sklearn.model_selection import train_test_split\n",
        "\n",
        "from sklearn.ensemble import RandomForestClassifier\n",
        "from xgboost import XGBClassifier\n",
        "from sklearn.linear_model import LogisticRegression\n",
        "\n",
        "from sklearn.metrics import accuracy_score, f1_score"
      ]
    },
    {
      "cell_type": "code",
      "source": [
        "# Load data as pandas dataframe\n",
        "file_path = '/content/drive/MyDrive/dortmund/data.csv'\n",
        "data = pd.read_csv(file_path, delimiter=';')"
      ],
      "metadata": {
        "id": "vabJ-ZnLspy-"
      },
      "execution_count": 4,
      "outputs": []
    },
    {
      "cell_type": "markdown",
      "source": [
        "# Task 1"
      ],
      "metadata": {
        "id": "5A0YOdKSs4VZ"
      }
    },
    {
      "cell_type": "markdown",
      "source": [
        "Aim - To prepare the data for analysis by addressing any missing values present"
      ],
      "metadata": {
        "id": "0_BV3POvTBU2"
      }
    },
    {
      "cell_type": "code",
      "source": [
        "data.isnull().sum()"
      ],
      "metadata": {
        "colab": {
          "base_uri": "https://localhost:8080/"
        },
        "id": "Vt-dTAXjst7v",
        "outputId": "6d945a99-b1f1-45b3-a42a-1ace656b52bd"
      },
      "execution_count": 5,
      "outputs": [
        {
          "output_type": "execute_result",
          "data": {
            "text/plain": [
              "game_id          0\n",
              "passing_quote    2\n",
              "winner           2\n",
              "dtype: int64"
            ]
          },
          "metadata": {},
          "execution_count": 5
        }
      ]
    },
    {
      "cell_type": "code",
      "source": [
        "data = data.dropna()"
      ],
      "metadata": {
        "id": "BHxy8WfYs90i"
      },
      "execution_count": 6,
      "outputs": []
    },
    {
      "cell_type": "code",
      "source": [
        "data = data.reset_index(drop=True)"
      ],
      "metadata": {
        "id": "e5zqumyftCzD"
      },
      "execution_count": 7,
      "outputs": []
    },
    {
      "cell_type": "markdown",
      "source": [
        "# Task 2"
      ],
      "metadata": {
        "id": "6qEjIRR5tFqp"
      }
    },
    {
      "cell_type": "markdown",
      "source": [
        "Aim – This task aimed to restructure the data to facilitate analysis of passing rates in relation to game outcomes (win, lose, tie)."
      ],
      "metadata": {
        "id": "d7LJnT-_TJCx"
      }
    },
    {
      "cell_type": "code",
      "source": [
        "data['winner'] = data['winner'].apply(lambda x: 1 if x == 'Yes' else 0)"
      ],
      "metadata": {
        "id": "oQN97gPTtDXD"
      },
      "execution_count": 8,
      "outputs": []
    },
    {
      "cell_type": "code",
      "source": [
        "def merge_game_data(game_id):\n",
        "  game_data = data[data['game_id'] == game_id]\n",
        "  team1_rate = game_data.iloc[0]['passing_quote']\n",
        "  team2_rate = game_data.iloc[1]['passing_quote']\n",
        "\n",
        "  # Winner assignment based on 'Yes' indicating any team's win or tie\n",
        "  if game_data.iloc[0]['winner'] == 1:\n",
        "    winner = 'Team 1'\n",
        "  elif game_data.iloc[1]['winner'] == 1:\n",
        "    winner = 'Team 2'\n",
        "  else:\n",
        "    winner = 'Tie'  # Handles tie case\n",
        "\n",
        "  return team1_rate, team2_rate, winner"
      ],
      "metadata": {
        "id": "UfQ4Dz2JtKQV"
      },
      "execution_count": 9,
      "outputs": []
    },
    {
      "cell_type": "code",
      "source": [
        "# Create new features\n",
        "team1_rates, team2_rates, winners = [], [], []\n",
        "for game_id in data['game_id'].unique():\n",
        "  team1_rate, team2_rate, winner = merge_game_data(game_id)\n",
        "  team1_rates.append(team1_rate)\n",
        "  team2_rates.append(team2_rate)\n",
        "  winners.append(winner)"
      ],
      "metadata": {
        "id": "HobPe-wItLrJ"
      },
      "execution_count": 10,
      "outputs": []
    },
    {
      "cell_type": "code",
      "source": [
        "# Combine features and target variable into a dataframe\n",
        "features = pd.DataFrame({'team1_rate': team1_rates, 'team2_rate': team2_rates})\n",
        "target = pd.DataFrame({'winner': winners})"
      ],
      "metadata": {
        "id": "-Qe5L0U7tXS9"
      },
      "execution_count": 11,
      "outputs": []
    },
    {
      "cell_type": "code",
      "source": [
        "# Save processed data to CSV\n",
        "processed_data_path = '/content/drive/MyDrive/dortmund/processed_data.csv'\n",
        "features_with_target = pd.concat([features, target], axis=1, join='inner')\n",
        "features_with_target.to_csv(processed_data_path, index=False)\n",
        "print(f\"Processed data saved to: {processed_data_path}\")"
      ],
      "metadata": {
        "colab": {
          "base_uri": "https://localhost:8080/"
        },
        "id": "LyhcoMBTtbmP",
        "outputId": "a4f9cdfa-34ed-4478-d85a-74c26c8c1863"
      },
      "execution_count": 12,
      "outputs": [
        {
          "output_type": "stream",
          "name": "stdout",
          "text": [
            "Processed data saved to: /content/drive/MyDrive/dortmund/processed_data.csv\n"
          ]
        }
      ]
    },
    {
      "cell_type": "code",
      "source": [
        "processed_data = pd.read_csv(processed_data_path)\n",
        "processed_data"
      ],
      "metadata": {
        "colab": {
          "base_uri": "https://localhost:8080/",
          "height": 419
        },
        "id": "MTrh4JCPtdjX",
        "outputId": "03ebb989-1fdd-48e7-b3c9-28e2fc461d42"
      },
      "execution_count": 13,
      "outputs": [
        {
          "output_type": "execute_result",
          "data": {
            "text/plain": [
              "     team1_rate  team2_rate  winner\n",
              "0          72.0        91.0  Team 2\n",
              "1          82.0        86.0  Team 1\n",
              "2          82.0        79.0  Team 1\n",
              "3          79.0        77.0  Team 2\n",
              "4          85.0        77.0     Tie\n",
              "..          ...         ...     ...\n",
              "147        84.0        76.0     Tie\n",
              "148        76.0        91.0  Team 2\n",
              "149        78.0        81.0  Team 2\n",
              "150        73.0        74.0     Tie\n",
              "151        74.0        89.0  Team 1\n",
              "\n",
              "[152 rows x 3 columns]"
            ],
            "text/html": [
              "\n",
              "  <div id=\"df-456efe59-e3ed-42ed-b505-211b401d67b5\" class=\"colab-df-container\">\n",
              "    <div>\n",
              "<style scoped>\n",
              "    .dataframe tbody tr th:only-of-type {\n",
              "        vertical-align: middle;\n",
              "    }\n",
              "\n",
              "    .dataframe tbody tr th {\n",
              "        vertical-align: top;\n",
              "    }\n",
              "\n",
              "    .dataframe thead th {\n",
              "        text-align: right;\n",
              "    }\n",
              "</style>\n",
              "<table border=\"1\" class=\"dataframe\">\n",
              "  <thead>\n",
              "    <tr style=\"text-align: right;\">\n",
              "      <th></th>\n",
              "      <th>team1_rate</th>\n",
              "      <th>team2_rate</th>\n",
              "      <th>winner</th>\n",
              "    </tr>\n",
              "  </thead>\n",
              "  <tbody>\n",
              "    <tr>\n",
              "      <th>0</th>\n",
              "      <td>72.0</td>\n",
              "      <td>91.0</td>\n",
              "      <td>Team 2</td>\n",
              "    </tr>\n",
              "    <tr>\n",
              "      <th>1</th>\n",
              "      <td>82.0</td>\n",
              "      <td>86.0</td>\n",
              "      <td>Team 1</td>\n",
              "    </tr>\n",
              "    <tr>\n",
              "      <th>2</th>\n",
              "      <td>82.0</td>\n",
              "      <td>79.0</td>\n",
              "      <td>Team 1</td>\n",
              "    </tr>\n",
              "    <tr>\n",
              "      <th>3</th>\n",
              "      <td>79.0</td>\n",
              "      <td>77.0</td>\n",
              "      <td>Team 2</td>\n",
              "    </tr>\n",
              "    <tr>\n",
              "      <th>4</th>\n",
              "      <td>85.0</td>\n",
              "      <td>77.0</td>\n",
              "      <td>Tie</td>\n",
              "    </tr>\n",
              "    <tr>\n",
              "      <th>...</th>\n",
              "      <td>...</td>\n",
              "      <td>...</td>\n",
              "      <td>...</td>\n",
              "    </tr>\n",
              "    <tr>\n",
              "      <th>147</th>\n",
              "      <td>84.0</td>\n",
              "      <td>76.0</td>\n",
              "      <td>Tie</td>\n",
              "    </tr>\n",
              "    <tr>\n",
              "      <th>148</th>\n",
              "      <td>76.0</td>\n",
              "      <td>91.0</td>\n",
              "      <td>Team 2</td>\n",
              "    </tr>\n",
              "    <tr>\n",
              "      <th>149</th>\n",
              "      <td>78.0</td>\n",
              "      <td>81.0</td>\n",
              "      <td>Team 2</td>\n",
              "    </tr>\n",
              "    <tr>\n",
              "      <th>150</th>\n",
              "      <td>73.0</td>\n",
              "      <td>74.0</td>\n",
              "      <td>Tie</td>\n",
              "    </tr>\n",
              "    <tr>\n",
              "      <th>151</th>\n",
              "      <td>74.0</td>\n",
              "      <td>89.0</td>\n",
              "      <td>Team 1</td>\n",
              "    </tr>\n",
              "  </tbody>\n",
              "</table>\n",
              "<p>152 rows × 3 columns</p>\n",
              "</div>\n",
              "    <div class=\"colab-df-buttons\">\n",
              "\n",
              "  <div class=\"colab-df-container\">\n",
              "    <button class=\"colab-df-convert\" onclick=\"convertToInteractive('df-456efe59-e3ed-42ed-b505-211b401d67b5')\"\n",
              "            title=\"Convert this dataframe to an interactive table.\"\n",
              "            style=\"display:none;\">\n",
              "\n",
              "  <svg xmlns=\"http://www.w3.org/2000/svg\" height=\"24px\" viewBox=\"0 -960 960 960\">\n",
              "    <path d=\"M120-120v-720h720v720H120Zm60-500h600v-160H180v160Zm220 220h160v-160H400v160Zm0 220h160v-160H400v160ZM180-400h160v-160H180v160Zm440 0h160v-160H620v160ZM180-180h160v-160H180v160Zm440 0h160v-160H620v160Z\"/>\n",
              "  </svg>\n",
              "    </button>\n",
              "\n",
              "  <style>\n",
              "    .colab-df-container {\n",
              "      display:flex;\n",
              "      gap: 12px;\n",
              "    }\n",
              "\n",
              "    .colab-df-convert {\n",
              "      background-color: #E8F0FE;\n",
              "      border: none;\n",
              "      border-radius: 50%;\n",
              "      cursor: pointer;\n",
              "      display: none;\n",
              "      fill: #1967D2;\n",
              "      height: 32px;\n",
              "      padding: 0 0 0 0;\n",
              "      width: 32px;\n",
              "    }\n",
              "\n",
              "    .colab-df-convert:hover {\n",
              "      background-color: #E2EBFA;\n",
              "      box-shadow: 0px 1px 2px rgba(60, 64, 67, 0.3), 0px 1px 3px 1px rgba(60, 64, 67, 0.15);\n",
              "      fill: #174EA6;\n",
              "    }\n",
              "\n",
              "    .colab-df-buttons div {\n",
              "      margin-bottom: 4px;\n",
              "    }\n",
              "\n",
              "    [theme=dark] .colab-df-convert {\n",
              "      background-color: #3B4455;\n",
              "      fill: #D2E3FC;\n",
              "    }\n",
              "\n",
              "    [theme=dark] .colab-df-convert:hover {\n",
              "      background-color: #434B5C;\n",
              "      box-shadow: 0px 1px 3px 1px rgba(0, 0, 0, 0.15);\n",
              "      filter: drop-shadow(0px 1px 2px rgba(0, 0, 0, 0.3));\n",
              "      fill: #FFFFFF;\n",
              "    }\n",
              "  </style>\n",
              "\n",
              "    <script>\n",
              "      const buttonEl =\n",
              "        document.querySelector('#df-456efe59-e3ed-42ed-b505-211b401d67b5 button.colab-df-convert');\n",
              "      buttonEl.style.display =\n",
              "        google.colab.kernel.accessAllowed ? 'block' : 'none';\n",
              "\n",
              "      async function convertToInteractive(key) {\n",
              "        const element = document.querySelector('#df-456efe59-e3ed-42ed-b505-211b401d67b5');\n",
              "        const dataTable =\n",
              "          await google.colab.kernel.invokeFunction('convertToInteractive',\n",
              "                                                    [key], {});\n",
              "        if (!dataTable) return;\n",
              "\n",
              "        const docLinkHtml = 'Like what you see? Visit the ' +\n",
              "          '<a target=\"_blank\" href=https://colab.research.google.com/notebooks/data_table.ipynb>data table notebook</a>'\n",
              "          + ' to learn more about interactive tables.';\n",
              "        element.innerHTML = '';\n",
              "        dataTable['output_type'] = 'display_data';\n",
              "        await google.colab.output.renderOutput(dataTable, element);\n",
              "        const docLink = document.createElement('div');\n",
              "        docLink.innerHTML = docLinkHtml;\n",
              "        element.appendChild(docLink);\n",
              "      }\n",
              "    </script>\n",
              "  </div>\n",
              "\n",
              "\n",
              "<div id=\"df-610eeb68-d124-4bf6-9c83-17e1261d5897\">\n",
              "  <button class=\"colab-df-quickchart\" onclick=\"quickchart('df-610eeb68-d124-4bf6-9c83-17e1261d5897')\"\n",
              "            title=\"Suggest charts\"\n",
              "            style=\"display:none;\">\n",
              "\n",
              "<svg xmlns=\"http://www.w3.org/2000/svg\" height=\"24px\"viewBox=\"0 0 24 24\"\n",
              "     width=\"24px\">\n",
              "    <g>\n",
              "        <path d=\"M19 3H5c-1.1 0-2 .9-2 2v14c0 1.1.9 2 2 2h14c1.1 0 2-.9 2-2V5c0-1.1-.9-2-2-2zM9 17H7v-7h2v7zm4 0h-2V7h2v10zm4 0h-2v-4h2v4z\"/>\n",
              "    </g>\n",
              "</svg>\n",
              "  </button>\n",
              "\n",
              "<style>\n",
              "  .colab-df-quickchart {\n",
              "      --bg-color: #E8F0FE;\n",
              "      --fill-color: #1967D2;\n",
              "      --hover-bg-color: #E2EBFA;\n",
              "      --hover-fill-color: #174EA6;\n",
              "      --disabled-fill-color: #AAA;\n",
              "      --disabled-bg-color: #DDD;\n",
              "  }\n",
              "\n",
              "  [theme=dark] .colab-df-quickchart {\n",
              "      --bg-color: #3B4455;\n",
              "      --fill-color: #D2E3FC;\n",
              "      --hover-bg-color: #434B5C;\n",
              "      --hover-fill-color: #FFFFFF;\n",
              "      --disabled-bg-color: #3B4455;\n",
              "      --disabled-fill-color: #666;\n",
              "  }\n",
              "\n",
              "  .colab-df-quickchart {\n",
              "    background-color: var(--bg-color);\n",
              "    border: none;\n",
              "    border-radius: 50%;\n",
              "    cursor: pointer;\n",
              "    display: none;\n",
              "    fill: var(--fill-color);\n",
              "    height: 32px;\n",
              "    padding: 0;\n",
              "    width: 32px;\n",
              "  }\n",
              "\n",
              "  .colab-df-quickchart:hover {\n",
              "    background-color: var(--hover-bg-color);\n",
              "    box-shadow: 0 1px 2px rgba(60, 64, 67, 0.3), 0 1px 3px 1px rgba(60, 64, 67, 0.15);\n",
              "    fill: var(--button-hover-fill-color);\n",
              "  }\n",
              "\n",
              "  .colab-df-quickchart-complete:disabled,\n",
              "  .colab-df-quickchart-complete:disabled:hover {\n",
              "    background-color: var(--disabled-bg-color);\n",
              "    fill: var(--disabled-fill-color);\n",
              "    box-shadow: none;\n",
              "  }\n",
              "\n",
              "  .colab-df-spinner {\n",
              "    border: 2px solid var(--fill-color);\n",
              "    border-color: transparent;\n",
              "    border-bottom-color: var(--fill-color);\n",
              "    animation:\n",
              "      spin 1s steps(1) infinite;\n",
              "  }\n",
              "\n",
              "  @keyframes spin {\n",
              "    0% {\n",
              "      border-color: transparent;\n",
              "      border-bottom-color: var(--fill-color);\n",
              "      border-left-color: var(--fill-color);\n",
              "    }\n",
              "    20% {\n",
              "      border-color: transparent;\n",
              "      border-left-color: var(--fill-color);\n",
              "      border-top-color: var(--fill-color);\n",
              "    }\n",
              "    30% {\n",
              "      border-color: transparent;\n",
              "      border-left-color: var(--fill-color);\n",
              "      border-top-color: var(--fill-color);\n",
              "      border-right-color: var(--fill-color);\n",
              "    }\n",
              "    40% {\n",
              "      border-color: transparent;\n",
              "      border-right-color: var(--fill-color);\n",
              "      border-top-color: var(--fill-color);\n",
              "    }\n",
              "    60% {\n",
              "      border-color: transparent;\n",
              "      border-right-color: var(--fill-color);\n",
              "    }\n",
              "    80% {\n",
              "      border-color: transparent;\n",
              "      border-right-color: var(--fill-color);\n",
              "      border-bottom-color: var(--fill-color);\n",
              "    }\n",
              "    90% {\n",
              "      border-color: transparent;\n",
              "      border-bottom-color: var(--fill-color);\n",
              "    }\n",
              "  }\n",
              "</style>\n",
              "\n",
              "  <script>\n",
              "    async function quickchart(key) {\n",
              "      const quickchartButtonEl =\n",
              "        document.querySelector('#' + key + ' button');\n",
              "      quickchartButtonEl.disabled = true;  // To prevent multiple clicks.\n",
              "      quickchartButtonEl.classList.add('colab-df-spinner');\n",
              "      try {\n",
              "        const charts = await google.colab.kernel.invokeFunction(\n",
              "            'suggestCharts', [key], {});\n",
              "      } catch (error) {\n",
              "        console.error('Error during call to suggestCharts:', error);\n",
              "      }\n",
              "      quickchartButtonEl.classList.remove('colab-df-spinner');\n",
              "      quickchartButtonEl.classList.add('colab-df-quickchart-complete');\n",
              "    }\n",
              "    (() => {\n",
              "      let quickchartButtonEl =\n",
              "        document.querySelector('#df-610eeb68-d124-4bf6-9c83-17e1261d5897 button');\n",
              "      quickchartButtonEl.style.display =\n",
              "        google.colab.kernel.accessAllowed ? 'block' : 'none';\n",
              "    })();\n",
              "  </script>\n",
              "</div>\n",
              "\n",
              "  <div id=\"id_a40d886a-bcd2-4759-be8c-f81a1b1d6302\">\n",
              "    <style>\n",
              "      .colab-df-generate {\n",
              "        background-color: #E8F0FE;\n",
              "        border: none;\n",
              "        border-radius: 50%;\n",
              "        cursor: pointer;\n",
              "        display: none;\n",
              "        fill: #1967D2;\n",
              "        height: 32px;\n",
              "        padding: 0 0 0 0;\n",
              "        width: 32px;\n",
              "      }\n",
              "\n",
              "      .colab-df-generate:hover {\n",
              "        background-color: #E2EBFA;\n",
              "        box-shadow: 0px 1px 2px rgba(60, 64, 67, 0.3), 0px 1px 3px 1px rgba(60, 64, 67, 0.15);\n",
              "        fill: #174EA6;\n",
              "      }\n",
              "\n",
              "      [theme=dark] .colab-df-generate {\n",
              "        background-color: #3B4455;\n",
              "        fill: #D2E3FC;\n",
              "      }\n",
              "\n",
              "      [theme=dark] .colab-df-generate:hover {\n",
              "        background-color: #434B5C;\n",
              "        box-shadow: 0px 1px 3px 1px rgba(0, 0, 0, 0.15);\n",
              "        filter: drop-shadow(0px 1px 2px rgba(0, 0, 0, 0.3));\n",
              "        fill: #FFFFFF;\n",
              "      }\n",
              "    </style>\n",
              "    <button class=\"colab-df-generate\" onclick=\"generateWithVariable('processed_data')\"\n",
              "            title=\"Generate code using this dataframe.\"\n",
              "            style=\"display:none;\">\n",
              "\n",
              "  <svg xmlns=\"http://www.w3.org/2000/svg\" height=\"24px\"viewBox=\"0 0 24 24\"\n",
              "       width=\"24px\">\n",
              "    <path d=\"M7,19H8.4L18.45,9,17,7.55,7,17.6ZM5,21V16.75L18.45,3.32a2,2,0,0,1,2.83,0l1.4,1.43a1.91,1.91,0,0,1,.58,1.4,1.91,1.91,0,0,1-.58,1.4L9.25,21ZM18.45,9,17,7.55Zm-12,3A5.31,5.31,0,0,0,4.9,8.1,5.31,5.31,0,0,0,1,6.5,5.31,5.31,0,0,0,4.9,4.9,5.31,5.31,0,0,0,6.5,1,5.31,5.31,0,0,0,8.1,4.9,5.31,5.31,0,0,0,12,6.5,5.46,5.46,0,0,0,6.5,12Z\"/>\n",
              "  </svg>\n",
              "    </button>\n",
              "    <script>\n",
              "      (() => {\n",
              "      const buttonEl =\n",
              "        document.querySelector('#id_a40d886a-bcd2-4759-be8c-f81a1b1d6302 button.colab-df-generate');\n",
              "      buttonEl.style.display =\n",
              "        google.colab.kernel.accessAllowed ? 'block' : 'none';\n",
              "\n",
              "      buttonEl.onclick = () => {\n",
              "        google.colab.notebook.generateWithVariable('processed_data');\n",
              "      }\n",
              "      })();\n",
              "    </script>\n",
              "  </div>\n",
              "\n",
              "    </div>\n",
              "  </div>\n"
            ],
            "application/vnd.google.colaboratory.intrinsic+json": {
              "type": "dataframe",
              "variable_name": "processed_data",
              "summary": "{\n  \"name\": \"processed_data\",\n  \"rows\": 152,\n  \"fields\": [\n    {\n      \"column\": \"team1_rate\",\n      \"properties\": {\n        \"dtype\": \"number\",\n        \"std\": 6.8003156129983395,\n        \"min\": 59.0,\n        \"max\": 92.0,\n        \"num_unique_values\": 31,\n        \"samples\": [\n          90.0,\n          76.0,\n          75.0\n        ],\n        \"semantic_type\": \"\",\n        \"description\": \"\"\n      }\n    },\n    {\n      \"column\": \"team2_rate\",\n      \"properties\": {\n        \"dtype\": \"number\",\n        \"std\": 7.022383671476368,\n        \"min\": 53.0,\n        \"max\": 91.0,\n        \"num_unique_values\": 31,\n        \"samples\": [\n          61.0,\n          72.0,\n          70.0\n        ],\n        \"semantic_type\": \"\",\n        \"description\": \"\"\n      }\n    },\n    {\n      \"column\": \"winner\",\n      \"properties\": {\n        \"dtype\": \"category\",\n        \"num_unique_values\": 3,\n        \"samples\": [\n          \"Team 2\",\n          \"Team 1\",\n          \"Tie\"\n        ],\n        \"semantic_type\": \"\",\n        \"description\": \"\"\n      }\n    }\n  ]\n}"
            }
          },
          "metadata": {},
          "execution_count": 13
        }
      ]
    },
    {
      "cell_type": "markdown",
      "source": [
        "# Task 3"
      ],
      "metadata": {
        "id": "P5GV518ytm-W"
      }
    },
    {
      "cell_type": "markdown",
      "source": [
        "Aim – This task aimed to explore the distribution and characteristics of passing rates within different winner groups (winners, losers, ties) using descriptive statistics and visualizations."
      ],
      "metadata": {
        "id": "nXlBfvoxTPA1"
      }
    },
    {
      "cell_type": "markdown",
      "source": [
        "## Descriptive Statistics"
      ],
      "metadata": {
        "id": "ao-sEDrLxV4Y"
      }
    },
    {
      "cell_type": "code",
      "source": [
        "print(processed_data.describe(include='all'))  # Summary statistics"
      ],
      "metadata": {
        "colab": {
          "base_uri": "https://localhost:8080/"
        },
        "id": "kxNzHyYbti31",
        "outputId": "361e0069-20ca-40f8-b092-a6ef98372fb4"
      },
      "execution_count": 14,
      "outputs": [
        {
          "output_type": "stream",
          "name": "stdout",
          "text": [
            "        team1_rate  team2_rate  winner\n",
            "count   152.000000  152.000000     152\n",
            "unique         NaN         NaN       3\n",
            "top            NaN         NaN  Team 1\n",
            "freq           NaN         NaN      71\n",
            "mean     80.585526   78.776316     NaN\n",
            "std       6.800316    7.022384     NaN\n",
            "min      59.000000   53.000000     NaN\n",
            "25%      76.000000   75.000000     NaN\n",
            "50%      82.000000   79.000000     NaN\n",
            "75%      86.000000   84.000000     NaN\n",
            "max      92.000000   91.000000     NaN\n"
          ]
        }
      ]
    },
    {
      "cell_type": "code",
      "source": [
        "# Winners\n",
        "winners = processed_data[processed_data[\"winner\"] != \"Tie\"]\n",
        "winning_team = winners[\"winner\"]\n",
        "\n",
        "# Combine Team 1 and Team 2 Passing Rates for Winners\n",
        "winning_rates = []\n",
        "for idx, row in winners.iterrows():\n",
        "    if row[\"winner\"] == \"Team 1\":\n",
        "        winning_rates.append(row[\"team1_rate\"])\n",
        "    else:\n",
        "        winning_rates.append(row[\"team2_rate\"])\n",
        "\n",
        "print(sum(winning_rates)/len(winning_rates))"
      ],
      "metadata": {
        "colab": {
          "base_uri": "https://localhost:8080/"
        },
        "id": "7bjpAnEEt0Wg",
        "outputId": "5a115dd3-6e8a-46ef-f566-533d27e02ef1"
      },
      "execution_count": 15,
      "outputs": [
        {
          "output_type": "stream",
          "name": "stdout",
          "text": [
            "81.07894736842105\n"
          ]
        }
      ]
    },
    {
      "cell_type": "code",
      "source": [
        "# Ties\n",
        "tie_games = processed_data[processed_data[\"winner\"] == \"Tie\"]\n",
        "\n",
        "# Combine Team 1 and Team 2 Passing Rates for Ties\n",
        "tie_rates = pd.concat([tie_games[\"team1_rate\"], tie_games[\"team2_rate\"]])  # Combine rates for both teams in ties\n",
        "\n",
        "print(sum(tie_rates)/len(tie_rates))"
      ],
      "metadata": {
        "colab": {
          "base_uri": "https://localhost:8080/"
        },
        "id": "Y_0yfzjHuHJg",
        "outputId": "50337474-7f4b-4388-e860-14d4a9fff936"
      },
      "execution_count": 16,
      "outputs": [
        {
          "output_type": "stream",
          "name": "stdout",
          "text": [
            "78.21052631578948\n"
          ]
        }
      ]
    },
    {
      "cell_type": "markdown",
      "source": [
        "## Box Plot"
      ],
      "metadata": {
        "id": "1AJv4pjgxgTk"
      }
    },
    {
      "cell_type": "code",
      "source": [
        "plt.figure(figsize=(10, 6))\n",
        "\n",
        "# Team 1 Passing Rates\n",
        "team1_rates = processed_data[\"team1_rate\"]\n",
        "\n",
        "# Team 2 Passing Rates\n",
        "team2_rates = processed_data[\"team2_rate\"]\n",
        "\n",
        "winners = processed_data[\"winner\"]\n",
        "\n",
        "# Create subplots for Team 1 and Team 2 for games they won\n",
        "team1_winning_rates = team1_rates[winners == \"Team 1\"] # Team 1's passing rate distribution for games they won\n",
        "team2_winning_rates = team2_rates[winners == \"Team 2\"] # Team 2's passing rate distribution for games they won\n",
        "\n",
        "max_value = max(max(team1_winning_rates), max(team2_winning_rates)) #same y-axis\n",
        "\n",
        "# Subplot 1: Team 1 Passing Rate\n",
        "plt.subplot(1, 2, 1)\n",
        "plt.boxplot(team1_winning_rates, notch=True, vert=True, patch_artist=True, showmeans=True)\n",
        "plt.ylim(0, max_value)\n",
        "plt.xlabel('Winner')\n",
        "plt.ylabel('Team 1 Passing Rate')\n",
        "plt.title('Box plot of Team 1 Passing Rate when they won')\n",
        "\n",
        "# Subplot 2: Team 2 Passing Rate\n",
        "plt.subplot(1,2, 2)\n",
        "plt.boxplot(team2_winning_rates, notch=True, vert=True, patch_artist=True, showmeans=True)\n",
        "plt.ylim(0, max_value)\n",
        "plt.xlabel('Winner')\n",
        "plt.ylabel('Team 2 Passing Rate')\n",
        "plt.title('Box plot of Team 2 Passing Rate when they won')\n",
        "\n",
        "# Adjust layout and display the plot\n",
        "plt.tight_layout()\n",
        "plt.show()"
      ],
      "metadata": {
        "colab": {
          "base_uri": "https://localhost:8080/",
          "height": 54
        },
        "id": "-JUGRhCnuRh9",
        "outputId": "079830fe-87f8-4734-d9b9-32524a96b6ca"
      },
      "execution_count": 17,
      "outputs": [
        {
          "output_type": "display_data",
          "data": {
            "text/plain": [
              "<Figure size 1000x600 with 2 Axes>"
            ],
            "image/png": "[encoded data removed]"
          },
          "metadata": {}
        }
      ]
    },
    {
      "cell_type": "code",
      "source": [],
      "metadata": {
        "id": "Jy7TqIUsw4dP"
      },
      "execution_count": 17,
      "outputs": []
    },
    {
      "cell_type": "markdown",
      "source": [
        "# Task 4"
      ],
      "metadata": {
        "id": "ULst7jQGxkXs"
      }
    },
    {
      "cell_type": "markdown",
      "source": [
        "Aim - This section examines whether the passing rates in data follow a normal distribution"
      ],
      "metadata": {
        "id": "ay4TS1qmTTrh"
      }
    },
    {
      "cell_type": "markdown",
      "source": [
        "## Histogram"
      ],
      "metadata": {
        "id": "6zO6MC-oG4DY"
      }
    },
    {
      "cell_type": "code",
      "source": [
        "#Team 1 and Team 2 Passing rates\n",
        "\n",
        "# Team 1 Passing Rates\n",
        "team1_rates = processed_data[\"team1_rate\"]\n",
        "\n",
        "# Team 2 Passing Rates\n",
        "team2_rates = processed_data[\"team2_rate\"]\n",
        "\n",
        "# Find the minimum and maximum values across both datasets\n",
        "min_rate = min(min(team1_rates), min(team2_rates))\n",
        "max_rate = max(max(team1_rates), max(team2_rates))\n",
        "\n",
        "# Calculate maximum frequency\n",
        "max_frequency = 0\n",
        "for data in [team1_rates, team2_rates]:\n",
        "  counts, bins, patches = plt.hist(data, bins=20)\n",
        "  max_frequency = max(max_frequency, max(counts))\n",
        "\n",
        "plt.clf()\n",
        "# Create figure for two subplots\n",
        "plt.figure(figsize=(12, 6))\n",
        "plt.clf()\n",
        "\n",
        "# Team 1 Histogram (Left Subplot)\n",
        "plt.subplot(1, 2, 1)\n",
        "plt.hist(team1_rates, bins=20, edgecolor=\"black\")\n",
        "plt.xlabel(\"Team 1 Passing Rate (%)\")\n",
        "plt.ylabel(\"Frequency\")\n",
        "plt.title(\"Team 1 Passing Rates\")\n",
        "plt.grid(True)\n",
        "\n",
        "# Common x-axis limits for both subplots\n",
        "plt.xlim(min_rate, max_rate)\n",
        "\n",
        "# Team 2 Histogram (Right Subplot)\n",
        "plt.subplot(1, 2, 2)\n",
        "plt.hist(team2_rates, bins=20, edgecolor=\"black\")\n",
        "plt.xlabel(\"Team 2 Passing Rate (%)\")\n",
        "plt.ylabel(\"Frequency\")\n",
        "plt.title(\"Team 2 Passing Rates\")\n",
        "plt.grid(True)\n",
        "\n",
        "plt.ylim(0, max_frequency)  # Common y-axis limits for both subplots\n",
        "\n",
        "plt.show()"
      ],
      "metadata": {
        "colab": {
          "base_uri": "https://localhost:8080/",
          "height": 581
        },
        "id": "b_2EJbZvxpgo",
        "outputId": "f43e8ef2-8a4c-45eb-eb23-259738f8e4d2"
      },
      "execution_count": 18,
      "outputs": [
        {
          "output_type": "display_data",
          "data": {
            "text/plain": [
              "<Figure size 640x480 with 0 Axes>"
            ]
          },
          "metadata": {}
        },
        {
          "output_type": "display_data",
          "data": {
            "text/plain": [
              "<Figure size 1200x600 with 2 Axes>"
            ],
            "image/png": "[encoded data removed]"
          },
          "metadata": {}
        }
      ]
    },
    {
      "cell_type": "code",
      "source": [
        "# Separate passing rates based on win/loss\n",
        "team1_win = processed_data[processed_data['winner'] == 'Team 1']['team1_rate']\n",
        "team2_win = processed_data[processed_data['winner'] == 'Team 2']['team2_rate']\n",
        "team1_lose = processed_data[(processed_data['winner'] != 'Team 1') & (processed_data['winner'] != 'Tie')]['team1_rate']\n",
        "team2_lose = processed_data[(processed_data['winner'] != 'Team 2') & (processed_data['winner'] != 'Tie')]['team2_rate']"
      ],
      "metadata": {
        "id": "7hkhUW5KM9vj"
      },
      "execution_count": 19,
      "outputs": []
    },
    {
      "cell_type": "code",
      "source": [
        "#winners vs loosers - histogram\n",
        "\n",
        "win_rates = np.concatenate((team1_win, team2_win))\n",
        "lose_rates = np.concatenate((team1_lose, team2_lose))\n",
        "\n",
        "# Find the minimum and maximum values across both datasets\n",
        "min_rate = min(min(win_rates), min(lose_rates))\n",
        "max_rate = max(max(win_rates), max(lose_rates))\n",
        "\n",
        "# Calculate maximum frequency\n",
        "max_frequency = 0\n",
        "for data in [win_rates, lose_rates]:\n",
        "  counts, bins, patches = plt.hist(data, bins=20)\n",
        "  max_frequency = max(max_frequency, max(counts))\n",
        "\n",
        "plt.clf()\n",
        "# Create figure for two subplots\n",
        "plt.figure(figsize=(12, 6))\n",
        "plt.clf()\n",
        "\n",
        "# histogram for Winners\n",
        "plt.subplot(1, 2, 1)\n",
        "plt.hist(win_rates, bins=20, edgecolor=\"black\", label=\"Winners\")\n",
        "plt.xlabel(\"Passing Rate (%)\")\n",
        "plt.ylabel(\"Frequency\")\n",
        "plt.title(\"Distribution of Passing Rates for Teams that won\")\n",
        "plt.grid(True)\n",
        "\n",
        "# Common x-axis limits for both subplots\n",
        "plt.xlim(min_rate, max_rate)\n",
        "\n",
        "# histogram for Losers\n",
        "plt.subplot(1, 2, 2)\n",
        "plt.hist(lose_rates, bins=20, edgecolor=\"black\", label=\"Winners\")\n",
        "plt.xlabel(\"Passing Rate (%)\")\n",
        "plt.ylabel(\"Frequency\")\n",
        "plt.title(\"Distribution of Passing Rates for Teams that lost\")\n",
        "plt.grid(True)\n",
        "\n",
        "plt.ylim(0, max_frequency)  # Common y-axis limits for both subplots\n",
        "\n",
        "plt.show()"
      ],
      "metadata": {
        "colab": {
          "base_uri": "https://localhost:8080/",
          "height": 581
        },
        "id": "XgBPDhPGNBoB",
        "outputId": "bf76dd24-e727-4fa5-8c1a-0c465f6da21f"
      },
      "execution_count": 20,
      "outputs": [
        {
          "output_type": "display_data",
          "data": {
            "text/plain": [
              "<Figure size 640x480 with 0 Axes>"
            ]
          },
          "metadata": {}
        },
        {
          "output_type": "display_data",
          "data": {
            "text/plain": [
              "<Figure size 1200x600 with 2 Axes>"
            ],
            "image/png": "[encoded data removed]"
          },
          "metadata": {}
        }
      ]
    },
    {
      "cell_type": "code",
      "source": [
        "# winner vs ties\n",
        "\n",
        "# Ties\n",
        "tie_games = processed_data[processed_data[\"winner\"] == \"Tie\"]\n",
        "tie_rates = pd.concat([tie_games[\"team1_rate\"], tie_games[\"team2_rate\"]])  # Combine rates for both teams in ties\n",
        "\n",
        "# Find the minimum and maximum values across both datasets\n",
        "min_rate = min(min(win_rates), min(tie_rates))\n",
        "max_rate = max(max(win_rates), max(tie_rates))\n",
        "\n",
        "# Calculate maximum frequency\n",
        "max_frequency = 0\n",
        "for data in [win_rates, tie_rates]:\n",
        "  counts, bins, patches = plt.hist(data, bins=20)\n",
        "  max_frequency = max(max_frequency, max(counts))\n",
        "\n",
        "plt.clf()\n",
        "# Create figure for two subplots\n",
        "plt.figure(figsize=(12, 6))\n",
        "plt.clf()\n",
        "\n",
        "# histogram for Winners\n",
        "plt.subplot(1, 2, 1)\n",
        "plt.hist(win_rates, bins=20, edgecolor=\"black\", label=\"Winners\")\n",
        "plt.xlabel(\"Passing Rate (%)\")\n",
        "plt.ylabel(\"Frequency\")\n",
        "plt.title(\"Distribution of Passing Rates for Teams that won\")\n",
        "plt.grid(True)\n",
        "\n",
        "# Common x-axis limits for both subplots\n",
        "plt.xlim(min_rate, max_rate)\n",
        "\n",
        "# histogram for Ties\n",
        "plt.subplot(1, 2, 2)\n",
        "plt.hist(tie_rates, bins=20, edgecolor=\"black\", label=\"Winners\")\n",
        "plt.xlabel(\"Passing Rate (%)\")\n",
        "plt.ylabel(\"Frequency\")\n",
        "plt.title(\"Distribution of Passing Rates for Teams that tied\")\n",
        "plt.grid(True)\n",
        "\n",
        "plt.ylim(0, max_frequency)  # Common y-axis limits for both subplots\n",
        "\n",
        "plt.show()"
      ],
      "metadata": {
        "colab": {
          "base_uri": "https://localhost:8080/",
          "height": 581
        },
        "id": "GzfH-8TYNG_d",
        "outputId": "6cce0077-9383-4b73-e8f6-75fd09bd4357"
      },
      "execution_count": 21,
      "outputs": [
        {
          "output_type": "display_data",
          "data": {
            "text/plain": [
              "<Figure size 640x480 with 0 Axes>"
            ]
          },
          "metadata": {}
        },
        {
          "output_type": "display_data",
          "data": {
            "text/plain": [
              "<Figure size 1200x600 with 2 Axes>"
            ],
            "image/png": "[encoded data removed]"
          },
          "metadata": {}
        }
      ]
    },
    {
      "cell_type": "markdown",
      "source": [
        "## QQ Plot"
      ],
      "metadata": {
        "id": "7yyff66oSox-"
      }
    },
    {
      "cell_type": "code",
      "source": [
        "# Team 1 Passing Rates\n",
        "team1_rates = processed_data[\"team1_rate\"]\n",
        "\n",
        "# Team 2 Passing Rates\n",
        "team2_rates = processed_data[\"team2_rate\"]\n",
        "\n",
        "# Find the overall minimum and maximum values for both datasets\n",
        "min_value = min(min(team1_rates), min(team2_rates))\n",
        "max_value = max(max(team1_rates), max(team2_rates))\n",
        "\n",
        "# Create a QQ plot\n",
        "plt.figure(figsize=(12,6))\n",
        "\n",
        "# QQ plot for Team 1\n",
        "plt.subplot(1, 2, 1)\n",
        "stats.probplot(team1_rates, dist=\"norm\", plot=plt)\n",
        "plt.title('Q-Q Plot - Team 1')\n",
        "plt.grid(True)\n",
        "\n",
        "# Common axis limits for both Q-Q plots\n",
        "plt.xlim(-3, 3)\n",
        "plt.ylim(min_value, max_value)\n",
        "\n",
        "# QQ plot for Team 2\n",
        "plt.subplot(1, 2, 2)\n",
        "stats.probplot(team2_rates, dist=\"norm\", plot=plt)\n",
        "plt.title('Q-Q Plot - Team 2')\n",
        "plt.grid(True)\n",
        "\n",
        "plt.show()"
      ],
      "metadata": {
        "colab": {
          "base_uri": "https://localhost:8080/",
          "height": 564
        },
        "id": "4_yQZUMRObW8",
        "outputId": "02042d76-26f9-46b3-e958-561e2eb32b4f"
      },
      "execution_count": 22,
      "outputs": [
        {
          "output_type": "display_data",
          "data": {
            "text/plain": [
              "<Figure size 1200x600 with 2 Axes>"
            ],
            "image/png": "[encoded data removed]"
          },
          "metadata": {}
        }
      ]
    },
    {
      "cell_type": "code",
      "source": [
        "# Separate passing rates based on win/loss\n",
        "team1_win = processed_data[processed_data['winner'] == 'Team 1']['team1_rate']\n",
        "team2_win = processed_data[processed_data['winner'] == 'Team 2']['team2_rate']\n",
        "team1_lose = processed_data[(processed_data['winner'] != 'Team 1') & (processed_data['winner'] != 'Tie')]['team1_rate']\n",
        "team2_lose = processed_data[(processed_data['winner'] != 'Team 2') & (processed_data['winner'] != 'Tie')]['team2_rate']\n",
        "\n",
        "win_rates = np.concatenate((team1_win, team2_win))\n",
        "lose_rates = np.concatenate((team1_lose, team2_lose))\n",
        "\n",
        "# Ties\n",
        "tie_games = processed_data[processed_data[\"winner\"] == \"Tie\"]\n",
        "tie_rates = pd.concat([tie_games[\"team1_rate\"], tie_games[\"team2_rate\"]])  # Combine rates for both teams in ties"
      ],
      "metadata": {
        "id": "TSBCywxFUf-W"
      },
      "execution_count": 23,
      "outputs": []
    },
    {
      "cell_type": "code",
      "source": [
        "# Winners vs Losers\n",
        "\n",
        "# Find the overall minimum and maximum values for both datasets\n",
        "min_value = min(min(win_rates), min(lose_rates))\n",
        "max_value = max(max(win_rates), max(lose_rates))\n",
        "\n",
        "# Create a QQ plot\n",
        "plt.figure(figsize=(12,6))\n",
        "\n",
        "# QQ plot for Winners\n",
        "plt.subplot(1, 2, 1)\n",
        "stats.probplot(win_rates, dist=\"norm\", plot=plt)\n",
        "plt.title('Q-Q Plot - Winners')\n",
        "plt.grid(True)\n",
        "\n",
        "# Common axis limits for both Q-Q plots\n",
        "# plt.xlim(min_value, max_value)\n",
        "plt.xlim(-3, 3)\n",
        "plt.ylim(min_value, max_value)\n",
        "\n",
        "# QQ plot for Tie\n",
        "plt.subplot(1, 2, 2)\n",
        "stats.probplot(lose_rates, dist=\"norm\", plot=plt)\n",
        "plt.title('Q-Q Plot - Losers')\n",
        "plt.grid(True)\n",
        "\n",
        "plt.show()"
      ],
      "metadata": {
        "colab": {
          "base_uri": "https://localhost:8080/",
          "height": 564
        },
        "id": "tjPnpTEdTwtW",
        "outputId": "ce387fef-b556-47bd-d4dc-2da7b43fbff7"
      },
      "execution_count": 24,
      "outputs": [
        {
          "output_type": "display_data",
          "data": {
            "text/plain": [
              "<Figure size 1200x600 with 2 Axes>"
            ],
            "image/png": "[encoded data removed]"
          },
          "metadata": {}
        }
      ]
    },
    {
      "cell_type": "markdown",
      "source": [
        "## Shaprio-Wilks test"
      ],
      "metadata": {
        "id": "6YH2fy0H3dG6"
      }
    },
    {
      "cell_type": "code",
      "source": [
        "passing_rates = processed_data[\"team1_rate\"]  # Modify this as needed\n",
        "\n",
        "# Perform Shapiro-Wilk test\n",
        "shapiro_test = stats.shapiro(passing_rates)\n",
        "\n",
        "# Print the test statistic and p-value\n",
        "print(\"Shapiro-Wilk test statistic:\", shapiro_test[0])\n",
        "print(\"p-value:\", shapiro_test[1])\n",
        "\n",
        "# Interpretation\n",
        "if shapiro_test[1] > 0.05:  # Adjust significance level if needed\n",
        "    print(\"The data appears to be normally distributed (p-value > 0.05).\")\n",
        "else:\n",
        "    print(\"The data may not be normally distributed (p-value <= 0.05).\")"
      ],
      "metadata": {
        "colab": {
          "base_uri": "https://localhost:8080/"
        },
        "id": "-fxY4OX03flE",
        "outputId": "d29e0c0d-f48f-4581-c8ef-e534ccd40696"
      },
      "execution_count": 27,
      "outputs": [
        {
          "output_type": "stream",
          "name": "stdout",
          "text": [
            "Shapiro-Wilk test statistic: 0.9581329822540283\n",
            "p-value: 0.0001485094107920304\n",
            "The data may not be normally distributed (p-value <= 0.05).\n"
          ]
        }
      ]
    },
    {
      "cell_type": "code",
      "source": [
        "passing_rates = processed_data[\"team2_rate\"]  # Modify this as needed\n",
        "\n",
        "# Perform Shapiro-Wilk test\n",
        "shapiro_test = stats.shapiro(passing_rates)\n",
        "\n",
        "# Print the test statistic and p-value\n",
        "print(\"Shapiro-Wilk test statistic:\", shapiro_test[0])\n",
        "print(\"p-value:\", shapiro_test[1])\n",
        "\n",
        "# Interpretation\n",
        "if shapiro_test[1] > 0.05:  # Adjust significance level if needed\n",
        "    print(\"The data appears to be normally distributed (p-value > 0.05).\")\n",
        "else:\n",
        "    print(\"The data may not be normally distributed (p-value <= 0.05).\")"
      ],
      "metadata": {
        "colab": {
          "base_uri": "https://localhost:8080/"
        },
        "id": "yTUCPIWy3odM",
        "outputId": "e31c1447-882b-4b3a-ad61-9422fd888706"
      },
      "execution_count": 29,
      "outputs": [
        {
          "output_type": "stream",
          "name": "stdout",
          "text": [
            "Shapiro-Wilk test statistic: 0.963897168636322\n",
            "p-value: 0.0005156590486876667\n",
            "The data may not be normally distributed (p-value <= 0.05).\n"
          ]
        }
      ]
    },
    {
      "cell_type": "code",
      "source": [
        "# Separate passing rates based on win/loss\n",
        "team1_win = processed_data[processed_data['winner'] == 'Team 1']['team1_rate']\n",
        "team2_win = processed_data[processed_data['winner'] == 'Team 2']['team2_rate']\n",
        "team1_lose = processed_data[(processed_data['winner'] != 'Team 1') & (processed_data['winner'] != 'Tie')]['team1_rate']\n",
        "team2_lose = processed_data[(processed_data['winner'] != 'Team 2') & (processed_data['winner'] != 'Tie')]['team2_rate']\n",
        "\n",
        "win_rates = np.concatenate((team1_win, team2_win))\n",
        "lose_rates = np.concatenate((team1_lose, team2_lose))"
      ],
      "metadata": {
        "id": "_vdWx7er3qNR"
      },
      "execution_count": 30,
      "outputs": []
    },
    {
      "cell_type": "code",
      "source": [
        "#winner rates\n",
        "\n",
        "# Perform Shapiro-Wilk test\n",
        "shapiro_test = stats.shapiro(win_rates)\n",
        "\n",
        "# Print the test statistic and p-value\n",
        "print(\"Shapiro-Wilk test statistic:\", shapiro_test[0])\n",
        "print(\"p-value:\", shapiro_test[1])\n",
        "\n",
        "# Interpretation\n",
        "if shapiro_test[1] > 0.05:  # Adjust significance level if needed\n",
        "    print(\"The data appears to be normally distributed (p-value > 0.05).\")\n",
        "else:\n",
        "    print(\"The data may not be normally distributed (p-value <= 0.05).\")"
      ],
      "metadata": {
        "colab": {
          "base_uri": "https://localhost:8080/"
        },
        "id": "_roVz_Tb32wm",
        "outputId": "1e07d97b-7383-4308-e655-505f365b9e4c"
      },
      "execution_count": 31,
      "outputs": [
        {
          "output_type": "stream",
          "name": "stdout",
          "text": [
            "Shapiro-Wilk test statistic: 0.9145990014076233\n",
            "p-value: 2.0200225208100164e-06\n",
            "The data may not be normally distributed (p-value <= 0.05).\n"
          ]
        }
      ]
    },
    {
      "cell_type": "code",
      "source": [
        "#losers rates\n",
        "\n",
        "# Perform Shapiro-Wilk test\n",
        "shapiro_test = stats.shapiro(lose_rates)\n",
        "\n",
        "# Print the test statistic and p-value\n",
        "print(\"Shapiro-Wilk test statistic:\", shapiro_test[0])\n",
        "print(\"p-value:\", shapiro_test[1])\n",
        "\n",
        "# Interpretation\n",
        "if shapiro_test[1] > 0.05:  # Adjust significance level if needed\n",
        "    print(\"The data appears to be normally distributed (p-value > 0.05).\")\n",
        "else:\n",
        "    print(\"The data may not be normally distributed (p-value <= 0.05).\")"
      ],
      "metadata": {
        "colab": {
          "base_uri": "https://localhost:8080/"
        },
        "id": "NIqQqjci366Z",
        "outputId": "470b5d97-f983-411d-d98f-542da91464c2"
      },
      "execution_count": 32,
      "outputs": [
        {
          "output_type": "stream",
          "name": "stdout",
          "text": [
            "Shapiro-Wilk test statistic: 0.986456573009491\n",
            "p-value: 0.3102757930755615\n",
            "The data appears to be normally distributed (p-value > 0.05).\n"
          ]
        }
      ]
    },
    {
      "cell_type": "code",
      "source": [
        "# Ties\n",
        "tie_games = processed_data[processed_data[\"winner\"] == \"Tie\"]\n",
        "tie_rates = pd.concat([tie_games[\"team1_rate\"], tie_games[\"team2_rate\"]])  # Combine rates for both teams in ties\n",
        "\n",
        "# Perform Shapiro-Wilk test\n",
        "shapiro_test = stats.shapiro(tie_rates)\n",
        "\n",
        "# Print the test statistic and p-value\n",
        "print(\"Shapiro-Wilk test statistic:\", shapiro_test[0])\n",
        "print(\"p-value:\", shapiro_test[1])\n",
        "\n",
        "# Interpretation\n",
        "if shapiro_test[1] > 0.05:  # Adjust significance level if needed\n",
        "    print(\"The data appears to be normally distributed (p-value > 0.05).\")\n",
        "else:\n",
        "    print(\"The data may not be normally distributed (p-value <= 0.05).\")"
      ],
      "metadata": {
        "colab": {
          "base_uri": "https://localhost:8080/"
        },
        "id": "iQXsHuhR4DU9",
        "outputId": "9c6a0a22-b786-46ae-ee16-72a8b4869378"
      },
      "execution_count": 34,
      "outputs": [
        {
          "output_type": "stream",
          "name": "stdout",
          "text": [
            "Shapiro-Wilk test statistic: 0.9453475475311279\n",
            "p-value: 0.0025809723883867264\n",
            "The data may not be normally distributed (p-value <= 0.05).\n"
          ]
        }
      ]
    },
    {
      "cell_type": "markdown",
      "source": [
        "## To check if we can proceed with Two sample test test even though we got \"data may not be normal\""
      ],
      "metadata": {
        "id": "XTNPynug4YVi"
      }
    },
    {
      "cell_type": "code",
      "source": [
        "# Assuming 'winners' and 'tie_games' are DataFrames from your previous code\n",
        "\n",
        "winner_sample_size = len(winners)\n",
        "tie_game_sample_size = len(tie_games)\n",
        "\n",
        "print(\"Sample size for winners:\", winner_sample_size)\n",
        "print(\"Sample size for tie games:\", tie_game_sample_size)\n"
      ],
      "metadata": {
        "colab": {
          "base_uri": "https://localhost:8080/"
        },
        "id": "UaHPkFfl4XsC",
        "outputId": "f74e726b-3280-4703-85a7-6699bcd43719"
      },
      "execution_count": 35,
      "outputs": [
        {
          "output_type": "stream",
          "name": "stdout",
          "text": [
            "Sample size for winners: 152\n",
            "Sample size for tie games: 38\n"
          ]
        }
      ]
    },
    {
      "cell_type": "markdown",
      "source": [
        "# Task 5"
      ],
      "metadata": {
        "id": "X5vH8dvA2Wni"
      }
    },
    {
      "cell_type": "markdown",
      "source": [
        "**Research Question 1** – Is there a statistically significant difference in the average passing rate between winning and losing games?"
      ],
      "metadata": {
        "id": "nj-jjFAJTYbc"
      }
    },
    {
      "cell_type": "markdown",
      "source": [
        "### HYPOTHESIS -\n",
        "\n",
        "Null hypothesis (H₀): There is no statistically significant difference in the average passing rates between winning and losing teams.\n",
        "\n",
        "Alternative Hypothesis (H₁): There is a difference in passing rates between winners and losers."
      ],
      "metadata": {
        "id": "MGAd5kEs4nwU"
      }
    },
    {
      "cell_type": "markdown",
      "source": [
        "## Two sample T-test"
      ],
      "metadata": {
        "id": "ZYkfCXvk4jQY"
      }
    },
    {
      "cell_type": "code",
      "source": [
        "# Two sample t-test to analyse statistically significant difference in passing rates between teams that won and those who couldnt win and to answer that Has the winner of a game a higher passing rate than the lose\n",
        "\n",
        "# Separate passing rates based on win/loss\n",
        "team1_win = processed_data[processed_data['winner'] == 'Team 1']['team1_rate']\n",
        "team2_win = processed_data[processed_data['winner'] == 'Team 2']['team2_rate']\n",
        "team1_lose = processed_data[(processed_data['winner'] != 'Team 1') & (processed_data['winner'] != 'Tie')]['team1_rate']\n",
        "team2_lose = processed_data[(processed_data['winner'] != 'Team 2') & (processed_data['winner'] != 'Tie')]['team2_rate']\n",
        "\n",
        "# Combine win and lose rates into single arrays\n",
        "win_rates = np.concatenate((team1_win, team2_win))\n",
        "lose_rates = np.concatenate((team1_lose, team2_lose))\n",
        "\n",
        "# Perform two-sample t-test\n",
        "t_stat, p_value = stats.ttest_ind(win_rates, lose_rates)\n",
        "\n",
        "# Print results\n",
        "print(f\"t-statistic: {t_stat:.4f}, p-value: {p_value:.4f}\")\n",
        "\n",
        "# Interpret results\n",
        "if p_value < 0.05:\n",
        "  print(\"Reject the null hypothesis: There is a statistically significant difference in passing rates between teams that win and teams that lose.\")\n",
        "else:\n",
        "  print(\"Fail to reject the null hypothesis: There is no statistically significant difference in passing rates between teams that win and teams that lose.\")"
      ],
      "metadata": {
        "colab": {
          "base_uri": "https://localhost:8080/"
        },
        "id": "V7WoLY3mZzlX",
        "outputId": "1412ad60-9477-4d11-b9e6-b82fb5d8a393"
      },
      "execution_count": 36,
      "outputs": [
        {
          "output_type": "stream",
          "name": "stdout",
          "text": [
            "t-statistic: 2.0279, p-value: 0.0437\n",
            "Reject the null hypothesis: There is a statistically significant difference in passing rates between teams that win and teams that lose.\n"
          ]
        }
      ]
    },
    {
      "cell_type": "markdown",
      "source": [
        "The results of the two-sample t-test indicate that there is a statistically significant difference in passing rates between teams that win and teams that lose.\n",
        "\n",
        "> `t-statistic: 2.0279`\n",
        "\n",
        "The t-statistic measures the difference between the means of the two groups (win and lose) in units of the standard error. A positive t-statistic indicates that the mean passing rate for winning teams is higher than the mean passing rate for losing teams.\n",
        "\n",
        "The positive t-statistic further hints that winners might have a higher average passing rate compared to losers, but this is not definitive without further analysis.\n",
        "\n",
        "> `p-value: 0.0437`\n",
        "\n",
        "The p-value represents the probability of observing a t-statistic as extreme or more extreme than 2.0279, assuming that the null hypothesis is true (i.e., there is no difference in passing rates between winning and losing teams). A p-value less than 0.05 is generally considered to be statistically significant.\n",
        "\n",
        "**Conclusion:**\n",
        "Since the p-value (0.0437) is less than 0.05, we reject the null hypothesis and conclude that there is a statistically significant difference in passing rates between teams that win and teams that lose. This means that winning teams tend to have higher passing rates than losing teams.\n",
        "\n",
        "While this suggests winners might have a higher average passing rate, it's important to note that the data may not be perfectly normally distributed (as per Shapiro-Wilk test results). To confirm this finding, so non-parametric alternative - Mann-Whitney U test is performed for comparing passing rates."
      ],
      "metadata": {
        "id": "K8DMKHoy45b8"
      }
    },
    {
      "cell_type": "markdown",
      "source": [
        "## Mann Whitney U test"
      ],
      "metadata": {
        "id": "LlZhluA34-nF"
      }
    },
    {
      "cell_type": "code",
      "source": [
        "# Perform Mann-Whitney U test - non parametric test\n",
        "\n",
        "from scipy.stats import mannwhitneyu\n",
        "\n",
        "u_statistic, p_value = mannwhitneyu(win_rates, lose_rates)\n",
        "\n",
        "# Print results\n",
        "print(f\"U statistic: {u_statistic:.4f}, p-value: {p_value:.4f}\")\n",
        "\n",
        "# Interpret results (similar to the t-test)\n",
        "if p_value < 0.05:\n",
        "  print(\"Reject the null hypothesis: There is a statistically significant difference in passing rates between winners and losers.\")\n",
        "else:\n",
        "  print(\"Fail to reject the null hypothesis: There is no statistically significant difference in passing rates between winners and losers based on the Mann-Whitney U test.\")"
      ],
      "metadata": {
        "colab": {
          "base_uri": "https://localhost:8080/"
        },
        "id": "hHFrCkfA4-CM",
        "outputId": "e5d6fc5c-f488-49a9-fec6-26ff2bd3d3b6"
      },
      "execution_count": 37,
      "outputs": [
        {
          "output_type": "stream",
          "name": "stdout",
          "text": [
            "U statistic: 8052.0000, p-value: 0.0018\n",
            "Reject the null hypothesis: There is a statistically significant difference in passing rates between winners and losers.\n"
          ]
        }
      ]
    },
    {
      "cell_type": "markdown",
      "source": [
        "The low p-value (0.0018) suggests we can reject the null hypothesis, which stated there's no difference in passing rates between winners and losers."
      ],
      "metadata": {
        "id": "JNJTkt265Omr"
      }
    },
    {
      "cell_type": "markdown",
      "source": [
        "## Support of visualisation - Boxplot"
      ],
      "metadata": {
        "id": "ZmKzTl4Q5XI2"
      }
    },
    {
      "cell_type": "code",
      "source": [
        "plt.boxplot([win_rates, lose_rates], labels=[\"Winners\", \"Losers\"], notch=True)\n",
        "\n",
        "plt.xlabel(\"Team\")\n",
        "plt.ylabel(\"Passing Rate\")\n",
        "plt.title(\"Distribution of Passing Rates (Winners vs. Losers)\")\n",
        "plt.grid(True)\n",
        "\n",
        "plt.show()"
      ],
      "metadata": {
        "colab": {
          "base_uri": "https://localhost:8080/",
          "height": 472
        },
        "id": "CAqcABLPcEdS",
        "outputId": "abf7af7a-090e-4379-d1f5-326197756462"
      },
      "execution_count": 39,
      "outputs": [
        {
          "output_type": "display_data",
          "data": {
            "text/plain": [
              "<Figure size 640x480 with 1 Axes>"
            ],
            "image/png": "[encoded data removed]"
          },
          "metadata": {}
        }
      ]
    },
    {
      "cell_type": "markdown",
      "source": [
        "## Median calculation"
      ],
      "metadata": {
        "id": "WI6I11qc5lNN"
      }
    },
    {
      "cell_type": "code",
      "source": [
        "# Calculate medians\n",
        "winners_median = np.median(win_rates)\n",
        "losers_median = np.median(lose_rates)\n",
        "\n",
        "# Compare medians\n",
        "if winners_median > losers_median:\n",
        "  print(f\"winners_median = {winners_median} losers_median = {losers_median}\")\n",
        "  print(\"Winners have a higher median passing rate compared to losers.\")\n",
        "else:\n",
        "  print(f\"winners_median = {winners_median} losers_median = {losers_median}\")\n",
        "  print(\"Losers have a higher median passing rate compared to winners (unlikely scenario based on previous tests).\")"
      ],
      "metadata": {
        "colab": {
          "base_uri": "https://localhost:8080/"
        },
        "id": "6DoJR_qW5cPp",
        "outputId": "8f3e005c-5268-4cd0-a26d-ebc2961f8867"
      },
      "execution_count": 40,
      "outputs": [
        {
          "output_type": "stream",
          "name": "stdout",
          "text": [
            "winners_median = 83.0 losers_median = 79.0\n",
            "Winners have a higher median passing rate compared to losers.\n"
          ]
        }
      ]
    },
    {
      "cell_type": "markdown",
      "source": [
        "## Effect Size - Cohen's D"
      ],
      "metadata": {
        "id": "OOFy-5gI5wGt"
      }
    },
    {
      "cell_type": "code",
      "source": [
        "# Calculate means and pooled standard deviation\n",
        "winners_mean = np.mean(win_rates)\n",
        "losers_mean = np.mean(lose_rates)\n",
        "pooled_std = np.std(np.concatenate((win_rates, lose_rates)))\n",
        "\n",
        "# Calculate Cohen's d\n",
        "cohen_d = (winners_mean - losers_mean) / pooled_std\n",
        "\n",
        "print(\"Cohens D = \",cohen_d)\n",
        "\n",
        "if cohen_d >= 0.8:\n",
        "    print(\"There is a large effect size in passing rates between winners and losers.\")\n",
        "elif cohen_d >= 0.5:\n",
        "    print(\"There is a medium effect size in passing rates between winners and losers.\")\n",
        "elif cohen_d >= 0.2:\n",
        "    print(\"There is a small effect size in passing rates between winners and losers.\")\n",
        "else:\n",
        "    print(\"There is no effect size in passing rates between winners and losers.\")"
      ],
      "metadata": {
        "colab": {
          "base_uri": "https://localhost:8080/"
        },
        "id": "2cf0e0MD5ozj",
        "outputId": "6b4045a7-5bb6-4fa6-98f1-25f3e68cea9c"
      },
      "execution_count": 41,
      "outputs": [
        {
          "output_type": "stream",
          "name": "stdout",
          "text": [
            "Cohens D =  0.26736271117123855\n",
            "There is a small effect size in passing rates between winners and losers.\n"
          ]
        }
      ]
    },
    {
      "cell_type": "markdown",
      "source": [
        "# Task 6"
      ],
      "metadata": {
        "id": "moXsr5z96RBi"
      }
    },
    {
      "cell_type": "markdown",
      "source": [
        "**Research Question 2** – Is there a larger difference in passing rates within winning games compared to tie games?"
      ],
      "metadata": {
        "id": "oiALh7QQTfo6"
      }
    },
    {
      "cell_type": "markdown",
      "source": [
        "### HYPOTHESIS -\n",
        "\n",
        "Null hypothesis (H₀): There is no statistically significant difference in the average passing rate between winning and tie games.\n",
        "\n",
        "Alternative Hypothesis (H₁): There is a statistically significant difference in the average passing rate between winning and tie games."
      ],
      "metadata": {
        "id": "eSr9Rc1Y6Whi"
      }
    },
    {
      "cell_type": "code",
      "source": [
        "# Calculate the difference in passing rates for winning games\n",
        "winning_diff = [abs(rate1 - rate2) for rate1, rate2 in zip(winning_rates[::2], winning_rates[1::2])]\n",
        "\n",
        "# Calculate the difference in passing rates for tie games\n",
        "tie_diff = np.abs(tie_rates.diff().dropna())"
      ],
      "metadata": {
        "id": "9hq0SNwh6VA7"
      },
      "execution_count": 42,
      "outputs": []
    },
    {
      "cell_type": "markdown",
      "source": [
        "## Two Sample T-test"
      ],
      "metadata": {
        "id": "BErcxrZh61CM"
      }
    },
    {
      "cell_type": "code",
      "source": [
        "# Perform two-sample t-test\n",
        "t_stat, p_value = stats.ttest_ind(winning_diff, tie_diff)\n",
        "\n",
        "# Print results\n",
        "print(f\"t-statistic: {t_stat:.4f}, p-value: {p_value:.4f}\")\n",
        "\n",
        "# Interpret results\n",
        "if p_value < 0.05:\n",
        "  print(\"Reject the null hypothesis: There is a statistically significant difference in passing rates between teams that win and teams that lose.\")\n",
        "else:\n",
        "  print(\"Fail to reject the null hypothesis: There is no statistically significant difference in passing rates between teams that win and teams that lose.\")"
      ],
      "metadata": {
        "colab": {
          "base_uri": "https://localhost:8080/"
        },
        "id": "VJzDgZqH6rjx",
        "outputId": "9ce3ec85-a7cd-43cf-bafa-526ad77d3953"
      },
      "execution_count": 43,
      "outputs": [
        {
          "output_type": "stream",
          "name": "stdout",
          "text": [
            "t-statistic: 0.4464, p-value: 0.6560\n",
            "Fail to reject the null hypothesis: There is no statistically significant difference in passing rates between teams that win and teams that lose.\n"
          ]
        }
      ]
    },
    {
      "cell_type": "markdown",
      "source": [
        "## Mann-Whitney U test"
      ],
      "metadata": {
        "id": "Wxc-UROr7ETm"
      }
    },
    {
      "cell_type": "code",
      "source": [
        "u_statistic, p_value = mannwhitneyu(winning_diff, tie_diff)\n",
        "\n",
        "# Print results\n",
        "print(f\"U statistic: {u_statistic:.4f}, p-value: {p_value:.4f}\")\n",
        "\n",
        "# Interpret results (similar to the t-test)\n",
        "if p_value < 0.05:\n",
        "  print(\"Reject the null hypothesis: There is a statistically significant difference in passing rates between winners and losers.\")\n",
        "else:\n",
        "  print(\"Fail to reject the null hypothesis: There is no statistically significant difference in passing rates between winners and losers based on the Mann-Whitney U test.\")"
      ],
      "metadata": {
        "colab": {
          "base_uri": "https://localhost:8080/"
        },
        "id": "ngFa68VF693L",
        "outputId": "18cf8059-cc92-448a-f6a7-0341edd660b3"
      },
      "execution_count": 44,
      "outputs": [
        {
          "output_type": "stream",
          "name": "stdout",
          "text": [
            "U statistic: 2191.5000, p-value: 0.8055\n",
            "Fail to reject the null hypothesis: There is no statistically significant difference in passing rates between winners and losers based on the Mann-Whitney U test.\n"
          ]
        }
      ]
    },
    {
      "cell_type": "markdown",
      "source": [
        "## Support of visualisation - Boxplot"
      ],
      "metadata": {
        "id": "Vn3_wHte7SNK"
      }
    },
    {
      "cell_type": "code",
      "source": [
        "plt.boxplot([winning_diff, tie_diff], labels=[\"Winning Games\", \"Tie Games\"], notch=True)\n",
        "\n",
        "plt.xlabel(\"Game Type\")\n",
        "plt.ylabel(\"Absolute Difference in Passing Rate\")\n",
        "plt.title(\"Distribution of Absolute Differences in Passing Rates\")\n",
        "plt.grid(True)\n",
        "\n",
        "plt.show()"
      ],
      "metadata": {
        "colab": {
          "base_uri": "https://localhost:8080/",
          "height": 472
        },
        "id": "mlCO_8xk7JuS",
        "outputId": "7624e470-3f50-4323-9a6b-9c183b6342d4"
      },
      "execution_count": 46,
      "outputs": [
        {
          "output_type": "display_data",
          "data": {
            "text/plain": [
              "<Figure size 640x480 with 1 Axes>"
            ],
            "image/png": "[encoded data removed]"
          },
          "metadata": {}
        }
      ]
    },
    {
      "cell_type": "markdown",
      "source": [
        "## Median Calculation"
      ],
      "metadata": {
        "id": "XZrcQn4S7hCq"
      }
    },
    {
      "cell_type": "code",
      "source": [
        "# Calculate medians\n",
        "winners_median = np.median(winning_diff)\n",
        "tie_median = np.median(tie_diff)\n",
        "\n",
        "# Compare medians\n",
        "if winners_median > tie_median:\n",
        "  print(f\"winners_median = {winners_median} tie_median = {tie_median}\")\n",
        "  print(\"Winners have a higher median passing rate compared to tie.\")\n",
        "elif winners_median == tie_median:\n",
        "  print(f\"winners_median = {winners_median} tie_median = {tie_median}\")\n",
        "  print(\"ties have same median passing rate compared to winners.\")\n",
        "else:\n",
        "  print(f\"winners_median = {winners_median} tie_median = {tie_median}\")\n",
        "  print(\"ties have a higher median passing rate compared to winners.\")"
      ],
      "metadata": {
        "colab": {
          "base_uri": "https://localhost:8080/"
        },
        "id": "aqubFHcS7kyx",
        "outputId": "72d2a8f1-f38c-4ec1-daa8-19097611fecb"
      },
      "execution_count": 49,
      "outputs": [
        {
          "output_type": "stream",
          "name": "stdout",
          "text": [
            "winners_median = 7.0 tie_median = 7.0\n",
            "ties have same median passing rate compared to winners.\n"
          ]
        }
      ]
    },
    {
      "cell_type": "markdown",
      "source": [
        "## Effect size - Cohen's D"
      ],
      "metadata": {
        "id": "_OahFiWt8I7H"
      }
    },
    {
      "cell_type": "code",
      "source": [
        "# Calculate means and pooled standard deviation\n",
        "winners_mean = np.mean(winning_diff)\n",
        "tie_mean = np.mean(tie_diff)\n",
        "pooled_std = np.std(np.concatenate((winning_diff, tie_diff)))\n",
        "\n",
        "# Calculate Cohen's d\n",
        "cohen_d = (winners_mean - tie_mean) / pooled_std\n",
        "\n",
        "print(\"Cohens D = \",cohen_d)\n",
        "\n",
        "if cohen_d >= 0.8:\n",
        "    print(\"There is a large effect size in passing rates between winners and tie.\")\n",
        "elif cohen_d >= 0.5:\n",
        "    print(\"There is a medium effect size in passing rates between winners and tie.\")\n",
        "elif cohen_d >= 0.2:\n",
        "    print(\"There is a small effect size in passing rates between winners and tie.\")\n",
        "else:\n",
        "    print(\"There is no effect size in passing rates between winners and tie.\")"
      ],
      "metadata": {
        "colab": {
          "base_uri": "https://localhost:8080/"
        },
        "id": "FY_aOxPi7cL2",
        "outputId": "2a30deac-8cb3-4073-a5d7-7f95c4e45ad0"
      },
      "execution_count": 50,
      "outputs": [
        {
          "output_type": "stream",
          "name": "stdout",
          "text": [
            "Cohens D =  0.0789885704911432\n",
            "There is no effect size in passing rates between winners and tie.\n"
          ]
        }
      ]
    },
    {
      "cell_type": "markdown",
      "source": [
        "# Conclusion -\n",
        "\n",
        "1.\tDo winning teams have a statistically different passing rate compared to losing teams?\n",
        "\n",
        "> Key Result - Yes, there's a significant difference (p-value < 0.05) in passing rates. Winning teams boast a higher median passing rate, suggesting a connection between successful passing and winning. However, the effect size was small, indicating other factors likely influence winning besides passing.\n",
        "\n",
        "2. Is the difference in passing rate larger within winning games compared to ties?\n",
        "\n",
        "> Key Result – No significant difference (p > 0.05) was found in passing rates between winning and tie games. This suggests passing rate may not be a major factor distinguishing wins from ties. In other words, teams with both high and lower passing rates can emerge victorious in games that end in a tie. This finding highlights the complex nature of game outcomes, where various factors beyond passing success can contribute to a tied result.\n",
        "\n",
        "\n",
        "\n"
      ],
      "metadata": {
        "id": "e1cbfleZ8PwW"
      }
    },
    {
      "cell_type": "markdown",
      "source": [
        "**Overall, the findings suggest that passing rate is a factor influencing game outcomes, with higher passing rates associated with winning teams. However, the difference in passing rates between winning and tie games seems negligible.**"
      ],
      "metadata": {
        "id": "WoIpnFI58xIx"
      }
    }
  ]
}